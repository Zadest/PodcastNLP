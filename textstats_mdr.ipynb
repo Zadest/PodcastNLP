{
 "metadata": {
  "language_info": {
   "codemirror_mode": {
    "name": "ipython",
    "version": 3
   },
   "file_extension": ".py",
   "mimetype": "text/x-python",
   "name": "python",
   "nbconvert_exporter": "python",
   "pygments_lexer": "ipython3",
   "version": "3.9.6"
  },
  "orig_nbformat": 4,
  "kernelspec": {
   "name": "python3",
   "display_name": "Python 3.9.6 64-bit (windows store)"
  },
  "interpreter": {
   "hash": "24d3916f4a9f8bbe764819496dcbc51ff6063af5fca03b7fe0f93e0003d125b6"
  }
 },
 "nbformat": 4,
 "nbformat_minor": 2,
 "cells": [
  {
   "cell_type": "code",
   "execution_count": 1,
   "source": [
    "# -*- coding : utf8 -*-\r\n",
    "\r\n",
    "import os\r\n",
    "import json\r\n",
    "import re\r\n",
    "from textblob_de import TextBlobDE as t\r\n",
    "import matplotlib.pyplot as plt\r\n",
    "from utils import _flatten_list\r\n",
    "from tabulate import tabulate\r\n",
    "\r\n",
    "from textblob_de.taggers import PatternTagger"
   ],
   "outputs": [],
   "metadata": {}
  },
  {
   "cell_type": "code",
   "execution_count": 2,
   "source": [
    "dict1 = {}\r\n",
    "# Listen definieren\r\n",
    "# Alexander Kekulé\r\n",
    "ak = []\r\n",
    "lenak = []\r\n",
    "wtypeak = {}\r\n",
    "counterak = 0\r\n",
    "avglenak = 0\r\n",
    "# Camillo Schumann\r\n",
    "cs = []\r\n",
    "lencs = []\r\n",
    "wtypecs = {}\r\n",
    "countercs = 0\r\n",
    "avglencs = 0\r\n",
    "#Jan Kröger \r\n",
    "jk = []\r\n",
    "lenjk = []\r\n",
    "wtypejk = {}\r\n",
    "counterjk = 0\r\n",
    "avglenjk = 0\r\n",
    "# Iterator\r\n",
    "people = ['cs','ak','jk']\r\n",
    "mods = ['cs','jk']\r\n",
    "scientist = ['ak']\r\n",
    "label = []"
   ],
   "outputs": [],
   "metadata": {}
  },
  {
   "cell_type": "code",
   "execution_count": 3,
   "source": [
    "pathmdr = os.path.join('data','REFINED','mdr')\r\n",
    "ldmdr = os.listdir(pathmdr)"
   ],
   "outputs": [],
   "metadata": {}
  },
  {
   "cell_type": "code",
   "execution_count": 4,
   "source": [
    "for i in range(0,len(ldmdr)):\r\n",
    "    path = os.path.join(pathmdr,ldmdr[i])\r\n",
    "    if re.search('.json',ldmdr[i]):\r\n",
    "        with open(path,'r',encoding='utf-8') as f:\r\n",
    "            dict1 = json.load(f)\r\n",
    "            for i in dict1['metadata']['speakers']:\r\n",
    "                if 'Alexander Kekulé' in dict1['metadata']['speakers']:\r\n",
    "                    counterak += 1\r\n",
    "                if 'Camillo Schumann' in dict1['metadata']['speakers']:\r\n",
    "                    countercs += 1\r\n",
    "                if 'Jan Kröger' in dict1['metadata']['speakers']:\r\n",
    "                    counterjk += 1\r\n",
    "            for key in dict1['content']:\r\n",
    "                if dict1['content'][key][0]=='Camillo Schumann':\r\n",
    "                    cs.append(dict1['content'][key][1])\r\n",
    "                if dict1['content'][key][0]=='Jan Kröger':\r\n",
    "                    jk.append(dict1['content'][key][1])\r\n",
    "                if dict1['content'][key][0]=='Alexander Kekulé':\r\n",
    "                    ak.append(dict1['content'][key][1])"
   ],
   "outputs": [],
   "metadata": {
    "tags": []
   }
  },
  {
   "cell_type": "code",
   "execution_count": 5,
   "source": [
    "# Länge des Redeanteils\r\n",
    "l = []\r\n",
    "if len(ak)>1:\r\n",
    "    l = ' '.join(ak).split(' ')\r\n",
    "    l = _flatten_list(l)\r\n",
    "    lenak = len(l)\r\n",
    "        \r\n",
    "l = []\r\n",
    "if len(cs)>1:\r\n",
    "    l = ' '.join(cs).split(' ')\r\n",
    "    l = _flatten_list(l)\r\n",
    "    lencs = len(l)\r\n",
    "l = []\r\n",
    "if len(jk)>1:\r\n",
    "    l = ' '.join(jk).split(' ')\r\n",
    "    l = _flatten_list(l)\r\n",
    "    lenjk = len(l)"
   ],
   "outputs": [],
   "metadata": {}
  },
  {
   "cell_type": "code",
   "execution_count": 6,
   "source": [
    "#Durchschnittliche Redelänge\r\n",
    "# A.Kekulé\r\n",
    "if counterak>1:\r\n",
    "    avglenak = lenak/counterak\r\n",
    "# Camillo Schumann\r\n",
    "if countercs>1:    \r\n",
    "    avglencs = lencs/countercs\r\n",
    "# Jan Kröger\r\n",
    "if counterjk>1:\r\n",
    "    avglenjk = lenjk/counterjk"
   ],
   "outputs": [],
   "metadata": {}
  },
  {
   "cell_type": "code",
   "execution_count": 7,
   "source": [
    "tcs = \"\\n\".join(cs)\r\n",
    "tak = \"\\n\".join(ak)\r\n",
    "tjk = \"\\n\".join(jk)"
   ],
   "outputs": [],
   "metadata": {}
  },
  {
   "cell_type": "code",
   "execution_count": 8,
   "source": [
    "tagger = PatternTagger()\r\n",
    "# print(blob.pos_tags)\r\n",
    "\r\n",
    "# Nomen, Adjektive/Adverb, Verben https://pythonexamples.org/nltk-pos-tagging/\r\n",
    "# Nomen und Verben / Satz\r\n",
    "wak = []\r\n",
    "wcs = []\r\n",
    "wjk = []\r\n",
    "wtak = []\r\n",
    "wtcs = []\r\n",
    "wtjk = []\r\n",
    "partswak = {}\r\n",
    "partswcs = {}\r\n",
    "partswjk = {}\r\n",
    "\r\n",
    "# Kekulé\r\n",
    "blob = t(tak,pos_tagger=tagger)\r\n",
    "for tag in blob.pos_tags:\r\n",
    "    key = tag[1]\r\n",
    "    if key in wtypeak:\r\n",
    "        wtypeak[key] += 1\r\n",
    "    else:\r\n",
    "        wtypeak[key] = 1\r\n",
    "for key in wtypeak:\r\n",
    "    wak.append(wtypeak[key])\r\n",
    "    wtak.append(key)\r\n",
    "sumwak = sum(wak) # Summe aller Wörter\r\n",
    "for key in wtypeak:\r\n",
    "    nv = wtypeak[key]/counterak \r\n",
    "    partswak.update({key:nv}) # Anteil Worttypen\r\n",
    "\r\n",
    "# Schumann        \r\n",
    "blob = t(tcs,pos_tagger=tagger)\r\n",
    "for tag in blob.pos_tags:\r\n",
    "    key = tag[1]\r\n",
    "    if key in wtypecs:\r\n",
    "        wtypecs[key] += 1\r\n",
    "    else:\r\n",
    "        wtypecs[key] = 1\r\n",
    "for key in wtypecs:\r\n",
    "    wcs.append(wtypecs[key])\r\n",
    "    wtcs.append(key)\r\n",
    "sumwcs = sum(wcs) # Summe aller Wörter\r\n",
    "for key in wtypecs:\r\n",
    "    nv = wtypecs[key]/countercs\r\n",
    "    partswcs.update({key:nv}) # Anteil Worttypen\r\n",
    "\r\n",
    "#Kröger\r\n",
    "blob = t(tjk,pos_tagger=tagger)\r\n",
    "for tag in blob.pos_tags:\r\n",
    "    key = tag[1]\r\n",
    "    if key in wtypejk:\r\n",
    "        wtypejk[key] += 1\r\n",
    "    else:\r\n",
    "        wtypejk[key] = 1\r\n",
    "for key in wtypejk:\r\n",
    "    wjk.append(wtypejk[key])\r\n",
    "    wtjk.append(key)\r\n",
    "sumwjk = sum(wjk) # Summe aller Wörter\r\n",
    "for key in wtypejk:\r\n",
    "    nv = wtypejk[key]/counterjk\r\n",
    "    partswjk.update({key:nv})\r\n",
    "\r\n",
    "# Ergebnisdoc erzeugen\r\n",
    "textkekule = 'Kekulé:\\nDurchschnittliche Redelänge: '+str(avglenak)+'Verwendete Worttypen: '+str(wtak)+'So häufig verwendet Kekulé...: '+str(wtypeak)+'also anteilig...:'+str(partswak)\r\n",
    "textschumann = 'Schumann:\\nDurchschnittliche Redelänge: '+str(avglencs)+'Verwendete Worttypen: '+str(wtcs)+ 'So häufig verwendet Schumann...: '+str(wtypecs)+'also anteilig...:'+str(partswcs)\r\n",
    "textkroger = 'Kröger:\\nDurchschnittliche Redelänge: '+str(avglenjk)+'Verwendete Worttypen: '+str(wtjk)+'So häufig verwendet Kröger...: '+str(wtypejk)+'also anteilig...:'+str(partswjk)\r\n",
    "endresult = textkekule + '\\n' + textschumann + '\\n' + textkroger \r\n",
    "\r\n",
    "pathstats = os.path.join('data','STATS')\r\n",
    "with open(os.path.join(pathstats,\"results_textstats_mdr.txt\"),\"w\",encoding=\"utf-8\") as f:\r\n",
    "    f.write(endresult)\r\n",
    "\r\n",
    "# Piechart Redeanteil\r\n",
    "avglen = [avglenak,avglencs,avglenjk]\r\n",
    "label = ['Alexander Kekulé','Camillo Schumann','Jan Kröger']\r\n",
    "print(avglen,label)\r\n",
    "\r\n",
    "plt.pie(avglen,labels=label)\r\n",
    "plt.legend(title=\"Redeanteil der Sprecher über alle Podcastfolgen\")\r\n",
    "plt.savefig(\"RedeanteilMDR.svg\")"
   ],
   "outputs": [
    {
     "output_type": "stream",
     "name": "stdout",
     "text": [
      "[14332.04918032787, 4632.449074074074, 4217.571428571428] ['Alexander Kekulé', 'Camillo Schumann', 'Jan Kröger']\n"
     ]
    },
    {
     "output_type": "display_data",
     "data": {
      "text/plain": [
       "<Figure size 432x288 with 1 Axes>"
      ],
      "image/png": "[encoded data removed]"
     },
     "metadata": {}
    }
   ],
   "metadata": {
    "tags": []
   }
  }
 ]
}