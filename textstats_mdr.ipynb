{
 "metadata": {
  "language_info": {
   "codemirror_mode": {
    "name": "ipython",
    "version": 3
   },
   "file_extension": ".py",
   "mimetype": "text/x-python",
   "name": "python",
   "nbconvert_exporter": "python",
   "pygments_lexer": "ipython3",
   "version": "3.9.6"
  },
  "orig_nbformat": 4,
  "kernelspec": {
   "name": "python3",
   "display_name": "Python 3.9.6 64-bit (windows store)"
  },
  "interpreter": {
   "hash": "24d3916f4a9f8bbe764819496dcbc51ff6063af5fca03b7fe0f93e0003d125b6"
  }
 },
 "nbformat": 4,
 "nbformat_minor": 2,
 "cells": [
  {
   "cell_type": "code",
   "execution_count": 547,
   "metadata": {},
   "outputs": [],
   "source": [
    "# -*- coding : utf8 -*-\n",
    "\n",
    "import os\n",
    "import json\n",
    "import re\n",
    "from textblob_de import TextBlobDE as t\n",
    "import matplotlib.pyplot as plt\n",
    "from utils import _flatten_list\n",
    "from tabulate import tabulate\n",
    "\n",
    "from textblob_de.taggers import PatternTagger"
   ]
  },
  {
   "cell_type": "code",
   "execution_count": 548,
   "metadata": {},
   "outputs": [],
   "source": [
    "dict1 = {}\n",
    "# Listen definieren\n",
    "# Alexander Kekulé\n",
    "ak = []\n",
    "lenak = []\n",
    "wtypeak = {}\n",
    "counterak = 0\n",
    "avglenak = 0\n",
    "# Camillo Schumann\n",
    "cs = []\n",
    "lencs = []\n",
    "wtypecs = {}\n",
    "countercs = 0\n",
    "avglencs = 0\n",
    "#Jan Kröger \n",
    "jk = []\n",
    "lenjk = []\n",
    "wtypejk = {}\n",
    "counterjk = 0\n",
    "avglenjk = 0\n",
    "# Iterator\n",
    "people = ['cs','ak','jk']\n",
    "mods = ['cs','jk']\n",
    "scientist = ['ak']\n",
    "label = []"
   ]
  },
  {
   "cell_type": "code",
   "execution_count": 549,
   "metadata": {},
   "outputs": [],
   "source": [
    "pathmdr = os.path.join('data','REFINED','mdr')\n",
    "ldmdr = os.listdir(pathmdr)"
   ]
  },
  {
   "cell_type": "code",
   "execution_count": 546,
   "metadata": {
    "tags": []
   },
   "outputs": [
    {
     "output_type": "error",
     "ename": "KeyboardInterrupt",
     "evalue": "",
     "traceback": [
      "\u001b[1;31m---------------------------------------------------------------------------\u001b[0m",
      "\u001b[1;31mKeyboardInterrupt\u001b[0m                         Traceback (most recent call last)",
      "\u001b[1;32m<ipython-input-546-b441435edfb5>\u001b[0m in \u001b[0;36m<module>\u001b[1;34m\u001b[0m\n\u001b[0;32m     24\u001b[0m     \u001b[1;32mfor\u001b[0m \u001b[0mi\u001b[0m \u001b[1;32min\u001b[0m \u001b[0mrange\u001b[0m\u001b[1;33m(\u001b[0m\u001b[1;36m0\u001b[0m\u001b[1;33m,\u001b[0m\u001b[0mlen\u001b[0m\u001b[1;33m(\u001b[0m\u001b[0mak\u001b[0m\u001b[1;33m)\u001b[0m\u001b[1;33m)\u001b[0m\u001b[1;33m:\u001b[0m\u001b[1;33m\u001b[0m\u001b[1;33m\u001b[0m\u001b[0m\n\u001b[0;32m     25\u001b[0m         \u001b[0ml\u001b[0m\u001b[1;33m.\u001b[0m\u001b[0mappend\u001b[0m\u001b[1;33m(\u001b[0m\u001b[0mak\u001b[0m\u001b[1;33m[\u001b[0m\u001b[0mi\u001b[0m\u001b[1;33m]\u001b[0m\u001b[1;33m.\u001b[0m\u001b[0msplit\u001b[0m\u001b[1;33m(\u001b[0m\u001b[1;34m' '\u001b[0m\u001b[1;33m)\u001b[0m\u001b[1;33m)\u001b[0m\u001b[1;33m\u001b[0m\u001b[1;33m\u001b[0m\u001b[0m\n\u001b[1;32m---> 26\u001b[1;33m         \u001b[0ml\u001b[0m \u001b[1;33m=\u001b[0m \u001b[0m_flatten_list\u001b[0m\u001b[1;33m(\u001b[0m\u001b[0ml\u001b[0m\u001b[1;33m)\u001b[0m\u001b[1;33m\u001b[0m\u001b[1;33m\u001b[0m\u001b[0m\n\u001b[0m\u001b[0;32m     27\u001b[0m         \u001b[0mlenak\u001b[0m\u001b[1;33m.\u001b[0m\u001b[0mappend\u001b[0m\u001b[1;33m(\u001b[0m\u001b[0mlen\u001b[0m\u001b[1;33m(\u001b[0m\u001b[0ml\u001b[0m\u001b[1;33m)\u001b[0m\u001b[1;33m)\u001b[0m\u001b[1;33m\u001b[0m\u001b[1;33m\u001b[0m\u001b[0m\n\u001b[0;32m     28\u001b[0m \u001b[1;33m\u001b[0m\u001b[0m\n",
      "\u001b[1;32mc:\\Users\\teres\\OneDrive\\Dokumente\\Studium\\Master\\vl\\CoronaPodcasts\\PodcastNLP\\utils.py\u001b[0m in \u001b[0;36m_flatten_list\u001b[1;34m(not_flat_list)\u001b[0m\n\u001b[0;32m     41\u001b[0m \u001b[1;33m\u001b[0m\u001b[0m\n\u001b[0;32m     42\u001b[0m \u001b[1;32mdef\u001b[0m \u001b[0m_flatten_list\u001b[0m\u001b[1;33m(\u001b[0m\u001b[0mnot_flat_list\u001b[0m\u001b[1;33m:\u001b[0m\u001b[0mlist\u001b[0m\u001b[1;33m[\u001b[0m\u001b[0mlist\u001b[0m\u001b[1;33m[\u001b[0m\u001b[0mstr\u001b[0m\u001b[1;33m]\u001b[0m\u001b[1;33m]\u001b[0m\u001b[1;33m)\u001b[0m \u001b[1;33m->\u001b[0m \u001b[0mlist\u001b[0m\u001b[1;33m[\u001b[0m\u001b[0mstr\u001b[0m\u001b[1;33m]\u001b[0m\u001b[1;33m:\u001b[0m\u001b[1;33m\u001b[0m\u001b[1;33m\u001b[0m\u001b[0m\n\u001b[1;32m---> 43\u001b[1;33m     \u001b[1;32mreturn\u001b[0m \u001b[1;33m[\u001b[0m\u001b[0mitem\u001b[0m \u001b[1;32mfor\u001b[0m \u001b[0msublist\u001b[0m \u001b[1;32min\u001b[0m \u001b[0mnot_flat_list\u001b[0m \u001b[1;32mfor\u001b[0m \u001b[0mitem\u001b[0m \u001b[1;32min\u001b[0m \u001b[0msublist\u001b[0m\u001b[1;33m]\u001b[0m\u001b[1;33m\u001b[0m\u001b[1;33m\u001b[0m\u001b[0m\n\u001b[0m\u001b[0;32m     44\u001b[0m \u001b[1;33m\u001b[0m\u001b[0m\n\u001b[0;32m     45\u001b[0m \u001b[1;32mdef\u001b[0m \u001b[0mrequest_every_link\u001b[0m\u001b[1;33m(\u001b[0m\u001b[0mlink_list\u001b[0m\u001b[1;33m,\u001b[0m\u001b[0mroot\u001b[0m\u001b[1;33m:\u001b[0m \u001b[0mstr\u001b[0m\u001b[1;33m,\u001b[0m\u001b[0mfolder_name\u001b[0m\u001b[1;33m:\u001b[0m\u001b[0mstr\u001b[0m\u001b[1;33m,\u001b[0m\u001b[0mkeep_name\u001b[0m\u001b[1;33m:\u001b[0m\u001b[0mbool\u001b[0m\u001b[1;33m=\u001b[0m\u001b[1;32mTrue\u001b[0m\u001b[1;33m,\u001b[0m \u001b[0mverbose\u001b[0m\u001b[1;33m:\u001b[0m\u001b[0mbool\u001b[0m\u001b[1;33m=\u001b[0m\u001b[1;32mFalse\u001b[0m\u001b[1;33m)\u001b[0m\u001b[1;33m:\u001b[0m\u001b[1;33m\u001b[0m\u001b[1;33m\u001b[0m\u001b[0m\n",
      "\u001b[1;32mc:\\Users\\teres\\OneDrive\\Dokumente\\Studium\\Master\\vl\\CoronaPodcasts\\PodcastNLP\\utils.py\u001b[0m in \u001b[0;36m<listcomp>\u001b[1;34m(.0)\u001b[0m\n\u001b[0;32m     41\u001b[0m \u001b[1;33m\u001b[0m\u001b[0m\n\u001b[0;32m     42\u001b[0m \u001b[1;32mdef\u001b[0m \u001b[0m_flatten_list\u001b[0m\u001b[1;33m(\u001b[0m\u001b[0mnot_flat_list\u001b[0m\u001b[1;33m:\u001b[0m\u001b[0mlist\u001b[0m\u001b[1;33m[\u001b[0m\u001b[0mlist\u001b[0m\u001b[1;33m[\u001b[0m\u001b[0mstr\u001b[0m\u001b[1;33m]\u001b[0m\u001b[1;33m]\u001b[0m\u001b[1;33m)\u001b[0m \u001b[1;33m->\u001b[0m \u001b[0mlist\u001b[0m\u001b[1;33m[\u001b[0m\u001b[0mstr\u001b[0m\u001b[1;33m]\u001b[0m\u001b[1;33m:\u001b[0m\u001b[1;33m\u001b[0m\u001b[1;33m\u001b[0m\u001b[0m\n\u001b[1;32m---> 43\u001b[1;33m     \u001b[1;32mreturn\u001b[0m \u001b[1;33m[\u001b[0m\u001b[0mitem\u001b[0m \u001b[1;32mfor\u001b[0m \u001b[0msublist\u001b[0m \u001b[1;32min\u001b[0m \u001b[0mnot_flat_list\u001b[0m \u001b[1;32mfor\u001b[0m \u001b[0mitem\u001b[0m \u001b[1;32min\u001b[0m \u001b[0msublist\u001b[0m\u001b[1;33m]\u001b[0m\u001b[1;33m\u001b[0m\u001b[1;33m\u001b[0m\u001b[0m\n\u001b[0m\u001b[0;32m     44\u001b[0m \u001b[1;33m\u001b[0m\u001b[0m\n\u001b[0;32m     45\u001b[0m \u001b[1;32mdef\u001b[0m \u001b[0mrequest_every_link\u001b[0m\u001b[1;33m(\u001b[0m\u001b[0mlink_list\u001b[0m\u001b[1;33m,\u001b[0m\u001b[0mroot\u001b[0m\u001b[1;33m:\u001b[0m \u001b[0mstr\u001b[0m\u001b[1;33m,\u001b[0m\u001b[0mfolder_name\u001b[0m\u001b[1;33m:\u001b[0m\u001b[0mstr\u001b[0m\u001b[1;33m,\u001b[0m\u001b[0mkeep_name\u001b[0m\u001b[1;33m:\u001b[0m\u001b[0mbool\u001b[0m\u001b[1;33m=\u001b[0m\u001b[1;32mTrue\u001b[0m\u001b[1;33m,\u001b[0m \u001b[0mverbose\u001b[0m\u001b[1;33m:\u001b[0m\u001b[0mbool\u001b[0m\u001b[1;33m=\u001b[0m\u001b[1;32mFalse\u001b[0m\u001b[1;33m)\u001b[0m\u001b[1;33m:\u001b[0m\u001b[1;33m\u001b[0m\u001b[1;33m\u001b[0m\u001b[0m\n",
      "\u001b[1;31mKeyboardInterrupt\u001b[0m: "
     ]
    }
   ],
   "source": [
    "for i in range(0,len(ldmdr)):\n",
    "    path = os.path.join(pathmdr,ldmdr[i])\n",
    "    if re.search('.json',ldmdr[i]):\n",
    "        with open(path,'r',encoding='utf-8') as f:\n",
    "            dict1 = json.load(f)\n",
    "            for i in dict1['metadata']['speakers']:\n",
    "                if 'Alexander Kekulé' in dict1['metadata']['speakers']:\n",
    "                    counterak += 1\n",
    "                if 'Camillo Schumann' in dict1['metadata']['speakers']:\n",
    "                    countercs += 1\n",
    "                if 'Jan Kröger' in dict1['metadata']['speakers']:\n",
    "                    counterjk += 1\n",
    "        for i in range(0,len(people)):\n",
    "            for key in dict1['content']:\n",
    "                if dict1['content'][key][0]=='Camillo Schumann':\n",
    "                    cs.append(dict1['content'][key][1])\n",
    "                if dict1['content'][key][0]=='Jan Kröger':\n",
    "                    jk.append(dict1['content'][key][1])\n",
    "                if dict1['content'][key][0]=='Alexander Kekulé':\n",
    "                    ak.append(dict1['content'][key][1])\n",
    "# Länge des Redeanteils\n",
    "l = []\n",
    "if len(ak)>1:\n",
    "    for i in range(0,len(ak)):\n",
    "        l.append(ak[i].split(' '))\n",
    "        l = _flatten_list(l)\n",
    "        lenak.append(len(l))\n",
    "\n",
    "l = []\n",
    "if len(cs)>1:\n",
    "    for i in range(0,len(cs)):\n",
    "        l.append(cs[i].split(' '))\n",
    "        l = _flatten_list(l)\n",
    "        lencs.append(len(l))\n",
    "if len(jk)>1:\n",
    "    for i in range(0,len(jk)):\n",
    "        l.append(jk[i].split(' '))\n",
    "        l = _flatten_list(l)\n",
    "        lenjk.append(len(l))"
   ]
  },
  {
   "cell_type": "code",
   "execution_count": 540,
   "metadata": {},
   "outputs": [],
   "source": [
    "#Durchschnittliche Redelänge\n",
    "# A.Kekulé\n",
    "if counterak>1:\n",
    "    avglenak = lenak[-1]/counterak\n",
    "    \n",
    "# Camillo Schumann\n",
    "if countercs>1:    \n",
    "    avglencs = lencs[-1]/countercs\n",
    "# Jan Kröger\n",
    "if counterjk>1:\n",
    "    avglenjk = lenjk[-1]/counterjk"
   ]
  },
  {
   "cell_type": "code",
   "execution_count": 541,
   "metadata": {},
   "outputs": [],
   "source": [
    "tcs = \"\\n\".join(cs)\n",
    "tak = \"\\n\".join(ak)\n",
    "tjk = \"\\n\".join(jk)"
   ]
  },
  {
   "cell_type": "code",
   "execution_count": 542,
   "metadata": {
    "tags": []
   },
   "outputs": [
    {
     "output_type": "error",
     "ename": "SyntaxError",
     "evalue": "invalid syntax (<ipython-input-542-07bc02f90d39>, line 79)",
     "traceback": [
      "\u001b[1;36m  File \u001b[1;32m\"<ipython-input-542-07bc02f90d39>\"\u001b[1;36m, line \u001b[1;32m79\u001b[0m\n\u001b[1;33m    fig.\u001b[0m\n\u001b[1;37m        ^\u001b[0m\n\u001b[1;31mSyntaxError\u001b[0m\u001b[1;31m:\u001b[0m invalid syntax\n"
     ]
    }
   ],
   "source": [
    "tagger = PatternTagger()\n",
    "# print(blob.pos_tags)\n",
    "\n",
    "# Nomen, Adjektive/Adverb, Verben https://pythonexamples.org/nltk-pos-tagging/\n",
    "# Nomen und Verben / Satz\n",
    "wak = []\n",
    "wcs = []\n",
    "wjk = []\n",
    "wtak = []\n",
    "wtcs = []\n",
    "wtjk = []\n",
    "partswak = {}\n",
    "partswcs = {}\n",
    "partswjk = {}\n",
    "\n",
    "# Kekulé\n",
    "blob = t(tak,pos_tagger=tagger)\n",
    "for tag in blob.pos_tags:\n",
    "    key = tag[1]\n",
    "    if key in wtypeak:\n",
    "        wtypeak[key] += 1\n",
    "    else:\n",
    "        wtypeak[key] = 1\n",
    "for key in wtypeak:\n",
    "    wak.append(wtypeak[key])\n",
    "    wtak.append(key)\n",
    "sumwak = sum(wak) # Summe aller Wörter\n",
    "for key in wtypeak:\n",
    "    nv = wtypeak[key]/counterak \n",
    "    partswak.update({key:nv}) # Anteil Worttypen\n",
    "\n",
    "# Schumann        \n",
    "blob = t(tcs,pos_tagger=tagger)\n",
    "for tag in blob.pos_tags:\n",
    "    key = tag[1]\n",
    "    if key in wtypecs:\n",
    "        wtypecs[key] += 1\n",
    "    else:\n",
    "        wtypecs[key] = 1\n",
    "for key in wtypecs:\n",
    "    wcs.append(wtypecs[key])\n",
    "    wtcs.append(key)\n",
    "sumwcs = sum(wcs) # Summe aller Wörter\n",
    "for key in wtypecs:\n",
    "    nv = wtypecs[key]/countercs\n",
    "    partswcs.update({key:nv}) # Anteil Worttypen\n",
    "\n",
    "#Kröger\n",
    "blob = t(tjk,pos_tagger=tagger)\n",
    "for tag in blob.pos_tags:\n",
    "    key = tag[1]\n",
    "    if key in wtypejk:\n",
    "        wtypejk[key] += 1\n",
    "    else:\n",
    "        wtypejk[key] = 1\n",
    "for key in wtypejk:\n",
    "    wjk.append(wtypejk[key])\n",
    "    wtjk.append(key)\n",
    "sumwjk = sum(wjk) # Summe aller Wörter\n",
    "for key in wtypejk:\n",
    "    nv = wtypejk[key]/counterjk\n",
    "    partswjk.update({key:nv})\n",
    "\n",
    "# Ergebnisdoc erzeugen\n",
    "textkekule = 'Kekulé:\\nDurchschnittliche Redelänge: '+str(avglenak)+'Verwendete Worttypen: '+str(wtak)+'So häufig verwendet Kekulé...: '+str(wtypeak)+'also anteilig...:'+str(partswak)\n",
    "textschumann = 'Schumann:\\nDurchschnittliche Redelänge: '+str(avglencs)+'Verwendete Worttypen: '+str(wtypecs)+ 'So häufig verwendet Schumann...: '+str(wtypecs)+'also anteilig...:'+str(partswcs)\n",
    "textkroger = 'Kröger:\\nDurchschnittliche Redelänge: '+str(avglenjk)+'Verwendete Worttypen: '+str(wtjk)+'So häufig verwendet Kröger...: '+str(wtypejk)+'also anteilig...:'+str(partswjk)\n",
    "endresult = textkekule + '\\n' + textschumann + '\\n' + textkroger \n",
    "\n",
    "pathstats = os.path.join('data','STATS')\n",
    "with open(os.path.join(pathstats,\"results_textstats_mdr.txt\"),\"w\",encoding=\"utf-8\") as f:\n",
    "    f.write(endresult)\n",
    "\n",
    "# Piechart Redeanteil\n",
    "avglen = [avglenak,avglencs,avglenjk]\n",
    "label = ['Alexander Kekulé','Camillo Schumann','Jan Kröger']\n",
    "print(avglen,label)\n",
    "\n",
    "plt.pie(avglen,labels=label)\n",
    "plt.legend(title=\"Redeanteil der Sprecher über alle Podcastfolgen\")\n",
    "plt.show()"
   ]
  }
 ]
}