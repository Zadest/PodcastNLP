{
 "cells": [
  {
   "cell_type": "code",
   "execution_count": 8,
   "id": "d02af280",
   "metadata": {},
   "outputs": [],
   "source": [
    "# -*- coding:utf8 -*-"
   ]
  },
  {
   "cell_type": "code",
   "execution_count": 9,
   "id": "faedcc99",
   "metadata": {},
   "outputs": [],
   "source": [
    "import os\n",
    "from PyPDF2 import PdfFileReader as reader\n",
    "from utils import _loading\n",
    "import re\n",
    "from textblob_de import TextBlobDE, Word"
   ]
  },
  {
   "cell_type": "code",
   "execution_count": 4,
   "id": "35927e09",
   "metadata": {},
   "outputs": [],
   "source": [
    "path = os.path.join(\"data\",\"RAW\",\"mdr\")\n",
    "_files = os.listdir(path)\n",
    "files = [os.path.join(path,filename) for filename in _files]\n",
    "del _files"
   ]
  },
  {
   "cell_type": "code",
   "execution_count": 5,
   "id": "ea749f8e",
   "metadata": {},
   "outputs": [
    {
     "output_type": "stream",
     "name": "stdout",
     "text": [
      "25 data\\RAW\\mdr\\kekule-corona-kompass-einhundertelf-100-downloadFile.pdf\n"
     ]
    }
   ],
   "source": [
    "episodes = []\n",
    "for filename in files[:73:]:\n",
    "    if filename.split(\".\")[-1] != \"pdf\":\n",
    "        continue\n",
    "    r = reader(filename)\n",
    "    text = \"\"\n",
    "    for page in r.pages:\n",
    "        text += page.extractText()\n",
    "    if len(text):\n",
    "        episodes.append([filename,text])\n",
    "    if len(text)< 10000:\n",
    "\n",
    "        print(len(episodes),filename)"
   ]
  },
  {
   "cell_type": "code",
   "execution_count": null,
   "id": "71f39f4c",
   "metadata": {},
   "outputs": [],
   "source": [
    "def performRegEx(text):\n",
    "    # Bindestrich entfernen\n",
    "    expColon = re.compile(r\"([a-z])(?:-\\n)([a-z])\")\n",
    "    colonText = expColon.sub(r'\\1\\2',text)\n",
    "\n",
    "    # Zeilenumsprung entfernen\n",
    "    expLB = re.compile(r'\\n')\n",
    "    lbText = expLB.sub(r'',colonText)\n",
    "\n",
    "    structText = re.sub(r\"\\s{2,}\",\"\\n\",lbText)\n",
    "    time = re.compile(r\"([0-9]{1,}:[0-9]{2}:[0-9]{2})|([0-9]{1,}:[0-9]{2})\")\n",
    "    structText = time.sub(r\"\\n\\1\",structText)\n",
    "    # Unterteilung nach Redner\n",
    "    expCS = re.compile(r\"\\s(Camillo Schumann|CAMILLO SCHUMANN)[\\s|\\:]\")\n",
    "    expJK = re.compile(r\"\\s(Jan Kröger|Jan Christian Kröger|JAN KRÖGER|JAN CHRISTIAN KRÖGER)[\\s|\\:]\")\n",
    "    expAK = re.compile(r\"\\s(Alexander Kekulé|ALEXANDER KEKULÉ|Prof\\. Dr\\. med\\. Dr\\. rer\\. nat\\. Alexander S\\. Kekulé)[\\s|\\:]\")\n",
    "    cs = expCS.sub(r\"\\nCamillo Schumann\\n\",structText)\n",
    "    jk = expJK.sub(r\"\\nJan Kröger\\n\",cs)\n",
    "    ak = expAK.sub(r\"\\nAlexander Kekulé\\n\",jk)\n",
    "    speakertransformed = ak\n",
    "    return speakertransformed"
   ]
  },
  {
   "cell_type": "code",
   "execution_count": 6,
   "id": "4d5fe23c",
   "metadata": {
    "scrolled": true
   },
   "outputs": [],
   "source": [
    "episodes_structured = []\n",
    "for entry in episodes:\n",
    "    episodes_structured.append(performRegEx(entry[1]))"
   ]
  },
  {
   "cell_type": "code",
   "execution_count": 1,
   "id": "28ed5c35",
   "metadata": {},
   "outputs": [
    {
     "output_type": "error",
     "ename": "NameError",
     "evalue": "name 'TextBlobDE' is not defined",
     "traceback": [
      "\u001b[1;31m---------------------------------------------------------------------------\u001b[0m",
      "\u001b[1;31mNameError\u001b[0m                                 Traceback (most recent call last)",
      "\u001b[1;32m<ipython-input-1-2c2fe61db6a4>\u001b[0m in \u001b[0;36m<module>\u001b[1;34m\u001b[0m\n\u001b[1;32m----> 1\u001b[1;33m \u001b[0mblob\u001b[0m \u001b[1;33m=\u001b[0m \u001b[0mTextBlobDE\u001b[0m\u001b[1;33m(\u001b[0m\u001b[0mepisodes_structured\u001b[0m\u001b[1;33m[\u001b[0m\u001b[1;36m0\u001b[0m\u001b[1;33m]\u001b[0m\u001b[1;33m)\u001b[0m\u001b[1;33m\u001b[0m\u001b[1;33m\u001b[0m\u001b[0m\n\u001b[0m\u001b[0;32m      2\u001b[0m \u001b[1;33m\u001b[0m\u001b[0m\n\u001b[0;32m      3\u001b[0m \u001b[0mset\u001b[0m\u001b[1;33m(\u001b[0m\u001b[0mlist\u001b[0m\u001b[1;33m(\u001b[0m\u001b[0mblob\u001b[0m\u001b[1;33m.\u001b[0m\u001b[0mnoun_phrases\u001b[0m\u001b[1;33m)\u001b[0m\u001b[1;33m)\u001b[0m\u001b[1;33m\u001b[0m\u001b[1;33m\u001b[0m\u001b[0m\n",
      "\u001b[1;31mNameError\u001b[0m: name 'TextBlobDE' is not defined"
     ]
    }
   ],
   "source": [
    "blob = TextBlobDE(episodes_structured[0])\n",
    "\n",
    "set(list(blob.noun_phrases))"
   ]
  },
  {
   "cell_type": "code",
   "execution_count": 6,
   "metadata": {},
   "outputs": [
    {
     "output_type": "error",
     "ename": "NameError",
     "evalue": "name 'blob' is not defined",
     "traceback": [
      "\u001b[1;31m---------------------------------------------------------------------------\u001b[0m",
      "\u001b[1;31mNameError\u001b[0m                                 Traceback (most recent call last)",
      "\u001b[1;32m<ipython-input-6-30ab52a145e4>\u001b[0m in \u001b[0;36m<module>\u001b[1;34m\u001b[0m\n\u001b[1;32m----> 1\u001b[1;33m \u001b[0mblob\u001b[0m\u001b[1;33m.\u001b[0m\u001b[0mtags\u001b[0m\u001b[1;33m\u001b[0m\u001b[1;33m\u001b[0m\u001b[0m\n\u001b[0m",
      "\u001b[1;31mNameError\u001b[0m: name 'blob' is not defined"
     ]
    }
   ],
   "source": [
    "blob.tags"
   ]
  },
  {
   "cell_type": "code",
   "execution_count": null,
   "metadata": {},
   "outputs": [],
   "source": []
  }
 ],
 "metadata": {
  "kernelspec": {
   "name": "python3",
   "display_name": "Python 3.9.5 64-bit ('env': venv)"
  },
  "language_info": {
   "codemirror_mode": {
    "name": "ipython",
    "version": 3
   },
   "file_extension": ".py",
   "mimetype": "text/x-python",
   "name": "python",
   "nbconvert_exporter": "python",
   "pygments_lexer": "ipython3",
   "version": "3.9.5"
  },
  "interpreter": {
   "hash": "d4edbf6018a42f1e6d7bda14ce28ac0eac13548eebd8bc89556ebbb415c089c5"
  }
 },
 "nbformat": 4,
 "nbformat_minor": 5
}