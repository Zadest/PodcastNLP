{
 "metadata": {
  "language_info": {
   "codemirror_mode": {
    "name": "ipython",
    "version": 3
   },
   "file_extension": ".py",
   "mimetype": "text/x-python",
   "name": "python",
   "nbconvert_exporter": "python",
   "pygments_lexer": "ipython3",
   "version": "3.9.6"
  },
  "orig_nbformat": 4,
  "kernelspec": {
   "name": "python3",
   "display_name": "Python 3.9.6 64-bit (windows store)"
  },
  "interpreter": {
   "hash": "24d3916f4a9f8bbe764819496dcbc51ff6063af5fca03b7fe0f93e0003d125b6"
  }
 },
 "nbformat": 4,
 "nbformat_minor": 2,
 "cells": [
  {
   "cell_type": "code",
   "execution_count": 26,
   "metadata": {},
   "outputs": [],
   "source": [
    "# -*- coding : utf8 -*-\n",
    "\n",
    "import os\n",
    "import json\n",
    "from textblob_de import TextBlobDE as t\n",
    "import matplotlib.pyplot as plt\n",
    "from utils import _flatten_list\n",
    "\n",
    "from textblob_de.taggers import PatternTagger"
   ]
  },
  {
   "cell_type": "code",
   "execution_count": 27,
   "metadata": {
    "tags": [
     "outputPrepend"
    ]
   },
   "outputs": [
    {
     "output_type": "stream",
     "name": "stdout",
     "text": [
      "en,', 'das', 'war', 'ja', 'eine', 'Geschäftsreisende', 'aus', 'China,', 'die', 'kam', 'für', 'ein', 'paar', 'Tage,', 'um', 'so', 'eine', 'Art', 'Fortbildung', 'zu', 'halten.', 'Die', 'ist', 'dann', 'wieder', 'zurückgeflogen,', 'und', 'wurde', 'praktisch', 'auf', 'dem', 'Heimweg', 'richtig', 'krank.', 'Die', 'war', 'damals', 'in', 'München', 'auch', 'schon', 'so', 'ein', 'bisschen', 'krank', 'und', 'hat', 'Paracetamol', 'genommen,', 'um', 'das', 'zu', 'unterdrücken,', 'und', 'hat', 'gedacht,', 'na', 'ja,', 'es', 'ist', 'wahrscheinlich', 'nur', 'Jetlag.', 'Und', 'dann', 'wurde', 'sie', 'richtig', 'krank', 'und', 'hat', 'dann', 'aber', 'in', 'München', 'angerufen', 'und', 'gesagt,', 'ich', 'bin', 'positiv', 'getestet', 'worden,', 'hier', 'in', 'China', 'auf', 'das', 'Virus,', 'und', 'ihr', 'müsst', 'aufpassen.', 'Und', 'nur', 'dadurch', 'hat', 'dann', 'letztendlich', 'der', 'Leiter', 'dieser', 'Firma', 'seine', 'Mitarbeiter', 'kontaktiert', 'und', 'gesagt:', '»Vorsicht!', 'Hat', 'jemand', 'hier', 'die', 'Symptome?«', '—', 'und', 'da', 'war', 'gleich', 'einer', 'dabei,', 'der', 'Symptome', 'hatte', 'und', 'so', 'ging', 'das', 'dann', 'los.', 'Dann', 'wurde', 'gleich', 'das', 'Gesundheitsamt', 'involviert,', 'und', 'man', 'hatte', 'nur', 'eine', 'ganz', 'kurze', 'Zeit', '—', 'rückblickend', 'nur', 'ein', 'paar', 'Tage', '—', 'wo', 'man', 'sagen', 'musste,', 'da', 'können', 'sich', 'Leute', 'infiziert', 'haben.', 'Da', 'wussten', 'wir', 'das', 'noch', 'nicht,', 'jetzt', 'können', 'wir', 'zurückfragen.', 'In', 'Italien', 'ist', 'das', 'anders', 'gewesen.', 'Da', 'ist', 'das', 'nicht', 'passiert.', 'Und', 'da', 'weiß', 'man', 'bis', 'heute', 'eigentlich', 'gar', 'nicht', 'genau,', 'ob', 'es', 'nur', 'eine', 'oder', 'mehrere', 'Einschleppungen', 'waren,', 'die', 'man', 'da', 'verpasst', 'hat.', 'Und', 'man', 'weiß', 'auch', 'gar', 'nicht', 'genau,', 'wie', 'lange', 'man', 'zurückblicken', 'muss,', 'um', 'an', 'den', 'Grund', 'des', 'Problems', 'zu', 'kommen.', 'Und', 'man', 'kann', 'das', 'jetzt', 'auch', 'nicht', 'mehr.', 'Diese', 'Zeit', 'lässt', 'sich', 'nicht', 'mehr', 'aufholen.', 'Und', 'wir', 'müssen', 'uns', 'schon', 'klar', 'machen,', 'wenn', 'das', 'in', 'München', 'nicht', 'so', 'gewesen', 'wäre,', 'dass', 'da', 'jemand', 'Bescheid', 'gesagt', 'hätte,', 'dann', 'könnte', 'es', 'sein,', 'dass', 'wir', 'bis', 'heute', 'von', 'diesem', 'ganzen', 'Münchner', 'Cluster', 'nichts', 'wüssten.', 'Oder', 'dass', 'irgendwo', 'in', 'München', 'und', 'Umgebung', 'irgendwann', 'ein', 'schwerer', 'Fall', 'auftauchen', 'würde', 'und', 'wir', 'alleine', 'dadurch', 'darauf', 'kommen', 'würden.', 'So', 'ist', 'es', 'ja', 'in', 'Italien', 'passiert.', '5/7', 'Es', 'ist', 'im', 'Moment', 'eine', 'ganz', 'schwierige', 'Situation', 'für', 'Behörden,', 'hier', 'offizielle', 'Warnungen', 'herauszugeben,', 'weil', 'sich', 'ja', 'wirklich', 'von', 'Tag', 'zu', 'Tag', 'die', 'Situation', 'ändert.', 'Und', 'zu', 'dieser', 'Unsicherheit', 'gehört', 'natürlich', 'auch', 'dazu,', 'dass', 'wir', 'wirklich', 'von', 'heute', 'auf', 'morgen', 'auch', 'feststellen', 'könnten,', 'dass', 'wir', 'anderswo', 'in', 'Deutschland,', 'als', 'in', 'München,', 'ein', 'ähnliches', 'Problem', 'haben', 'wie', 'die', 'Italiener,', 'und', 'wir', 'haben', 'das', 'noch', 'nicht', 'gemerkt.', 'Plötzlich', 'finden', 'wir', 'am', 'ersten', 'Tag', '20', 'und', 'dann', 'hundert', 'Fälle.', 'So', 'etwas', 'kann', 'ich', 'in', 'Deutschland', 'überhaupt', 'nicht', 'ausschließen.', 'Und', 'darum', 'ist', 'ein', 'Prozess,', 'jetzt', 'zu', 'überlegen,', 'brauchen', 'wir', 'eine', 'Reisewarnung', 'in', 'ein', 'Nachbarland,', 'fast', 'schon', 'müßig', 'für', 'eine', 'Behörde.', 'Und', 'wir', 'sprechen', 'da', 'ja', 'dann', 'vom', 'Auswärtigen', 'Amt.', 'Nein,', 'ich', 'sage', 'nicht,', 'dass', 'wir', 'da', 'eine', 'Reisewarnung', 'brauchen.', 'Es', 'ist', 'eher', 'eine', 'Überlegung,', 'die', 'jetzt', 'zu', 'dem', 'zurückkommt,', 'was', 'Sie', 'in', 'der', 'Frage', 'vorher', 'eigentlich', 'auch', 'mit', 'angeschnitten', 'haben,', 'nämlich', 'die', 'Frage:', 'Haben', 'wir', 'jetzt', 'eigentlich', 'eine', 'Pandemie?', 'Und', 'ich', 'denke:', 'Ja,', 'wir', 'haben', 'sie.', 'Man', 'muss', 'die', 'WHO', 'auch', 'verstehen,', 'als', 'UN-', 'Organisation', 'auf', 'einem', 'diplomatisch', 'hochempfindlichen', 'Parkett.', 'Wenn', 'ein', 'Doktor', 'Tedros,', 'der', 'Chef', 'der', 'WHO,', 'sagt,', 'das', 'Fenster', 'schließt', 'sich', 'zunehmend,', 'und', 'wir', 'müssen', 'uns', 'einstellen', 'auf', 'eine', 'Pandemie:', 'Da', 'muss', 'man', 'sich', 'klar', 'machen,', 'eine', 'Pandemie', 'ist', 'erst', 'mal', 'eine', 'Definitionsfrage.', 'Jetzt', 'ist', 'auch', 'noch', 'ein', 'Fall', 'in', 'Brasilien', 'aufgetreten,', 'der', 'hatte', 'immerhin', 'eine', 'Reisegeschichte', '—', 'aber', 'ich', 'denke,', 'es', 'wird', 'auch', 'noch', 'in', 'nächster', 'Zeit', 'auch', 'in', 'Südamerika', 'zu', 'Clustern', 'kommen.', 'Und', 'dann', 'allerspätestens', 'haben', 'wir', 'eine', 'Pandemie.', 'Und', 'natürlich,', 'wenn', 'jetzt', 'Afrika', 'dazu', 'käme,', 'dann', 'hätten', 'wir', 'natürlich', 'in', 'jedem', 'Fall', 'eine', 'Pandemie.', 'NIEMAND', 'IST', 'SCHULD', 'Und', 'die', 'Frage', 'ist,', 'hat', 'man', 'denn', 'in', 'Afrika', 'überhaupt', 'die', 'Möglichkeit,', 'das', 'nachzuweisen?', 'Und', 'die', 'Antwort', 'ist', 'ganz', 'klar:', 'Nein.', 'Also', 'es', 'wird', 'natürlich', 'im', 'Moment', 'viel', 'gesagt,', 'wie', 'bemüht', 'alle', 'sind,', 'den', 'Afrikanern', 'zu', 'helfen.', 'Und', 'ich', 'kann', 'Ihnen', 'sagen,', 'wir', 'haben', 'von', 'hier', 'viele', 'afrikanische', 'Labore', 'auch', 'schon', 'mit', 'Reagenzien', 'versorgt.', 'Aber', 'ich', 'glaube', 'nicht,', 'dass', 'die', 'das', 'deswegen', 'alle', 'jetzt', 'schon', 'können.', 'Und:', 'Es', 'ist', 'ja', 'nicht', 'so,', 'dass', 'die', 'Fälle', 'in', 'der', 'Hauptstadt', 'auftreten,', 'gleich', 'neben', 'dem', 'zentralen', 'Labor', '—', 'neben', 'dem', 'einen,', 'das', 'es', 'gibt', 'im', 'Land', '—,', 'und', 'dass', 'die', 'dann', 'auch', 'gleich', 'gemeldet', 'und', 'bemerkt', 'werden.', 'Denn', 'das', 'sind', 'ja', 'in', 'allererster', 'Linie', 'milde', 'Krankheitsverläufe.', 'Und', 'dann', 'ist', 'es', 'ja', 'in', 'afrikanischen', 'Ländern', 'so:', 'Ein', 'Erwachsener', 'mit', 'Fieber', 'hat', 'vor', 'allem', 'erst', 'einmal', 'Malaria.', 'Da', 'denkt', 'keiner', 'an', 'so', 'eine', 'Erkrankung.', 'Und', 'Lungenentzündungen', 'durch', 'Influenzavirus', 'kommen', 'auch', 'in', 'Afrika', 'vor', 'und', 'werden', 'dort', 'nicht', 'diagnostiziert.', 'Wir', 'können', 'fast', 'davon', 'ausgehen,', 'dass', 'es', 'schon', 'längst', 'Fälle', 'und', 'Fallhäufungen', 'in', 'Afrika', 'gibt,', 'die', 'aber', 'nicht', 'erkannt', 'werden.', 'Und', 'deswegen,', 'mit', 'all', 'dem', 'Wissen', 'und', 'dann', 'noch', 'mit', 'dem', 'Wissen', 'um', 'den', 'Iran,', 'wo', 'jetzt', 'das', 'Virus', 'eindeutig', 'in', 'die', 'arabische', 'Welt', 'hineingetragen', 'wird.', 'Wir', 'haben', 'schon', 'weiter', 'Verschleppungen', 'in', 'mehrere', 'arabische', 'Länder,', 'und', 'wir', 'wissen,', 'wie', 'konnektiv', 'die', 'arabische', 'Welt', 'mit', 'Afrika', 'ist.', 'Natürlich', 'haben', 'wir', 'eine', 'Pandemie.', 'Unter', 'diesem', 'Eindruck', 'jetzt', 'noch', 'zu', 'sagen,', 'soll', 'sich', 'Deutschland', 'vielleicht', 'von', 'Holland', 'abschotten', 'oder', 'Italien', 'von', 'Österreich?', 'Das', 'ist', 'fast', 'schon', 'eine', 'müßige', 'Überlegung.', 'Wir', 'müssen', 'jetzt', 'aufhören,', 'den', 'Blick', 'nach', 'außen', 'zu', 'kehren', 'und', 'letztendlich', 'mit', 'dem', 'Finger', 'auf', 'Nachbarländer', 'zu', 'zeigen', 'und', 'sagen,', 'die', 'haben‚s', 'verbockt,', 'oder', 'da', 'ist', 'das', 'Missgeschick', 'passiert', '—', 'das', 'ist', 'vollkommen', 'müßig.', 'Niemand', 'ist', 'an', 'irgendetwas', 'schuld', 'angesichts', 'einer', 'Pandemie.', 'Das', 'ist', 'eine', 'Naturkatastrophe,', 'die', 'in', 'Zeitlupe', 'stattfindet.', 'Und', 'wir', 'können', 'alle', 'nur', 'versuchen,', 'unseren', 'Beitrag', 'zu', 'leisten.', 'Nein,', 'es', 'ist', 'nicht', 'sinnvoll.', 'Also', 'es', 'ist', 'in', 'der', 'jetzigen', 'Anfangsphase', 'natürlich', 'total', 'zu', 'unterstützen,', 'die', 'Verbreitung', 'zu', 'verlangsamen.', 'Also', 'ein', 'Virus', 'wird', 'eingetragen,', 'es', 'sind', 'die', 'ersten', '20', 'Fälle', 'in', 'einer', 'Stadt', 'und', 'jetzt', 'möchte', 'man,', 'dass', 'das', 'nicht', 'innerhalb', 'von', 'einem', 'Monat', 'komplett', 'über', 'die', 'Bevölkerung', 'herfällt.', 'Da', 'kann', 'man', 'natürlich', 'dann', 'versuchen,', 'durch', 'solche', 'Maßnahmen', 'an', 'den', 'Orten,', 'wo', 'Viren', 'sich', 'nun', 'mal', 'verbreiten', '—', 'und', 'dazu', 'gehören', 'Schulen,', 'Sportveranstaltungen,', 'Kitas', '—,', 'durch', 'kurzzeitige,', 'aber', 'auch', 'richtig', 'kommunizierte', 'Maßnahmen', 'so', 'eine', 'Verbreitung', 'deutlich', 'in', 'die', 'Länge', 'zu', 'ziehen,', 'wenn', 'man', 'im', 'Keim', 'des', 'Geschehens', 'das', 'Ganze', 'verlangsamt.', 'Ersticken', 'kann', 'man', 'es', 'nicht,', 'aber', 'man', 'kann', 'es', 'deutlich', 'verlangsamen.', 'Und', 'das', 'kann', 'man', 'später', 'nicht', 'mehr.', 'Dazu', 'haben', 'wir', 'jetzt', 'die', 'Gelegenheit,', 'und', 'wir', '6/7', 'haben', 'jetzt', 'die', 'Gelegenheit,', 'durch', 'solche', 'Maßnahmen,', 'die', 'die', 'Gesundheitsämter', 'dann', 'jeweils', 'verhängen', 'müssen,', 'bei', 'der', 'Virusverbreitung', 'mehrere', 'Wochen', 'Zeit', 'zu', 'gewinnen', 'und', 'damit', 'in', 'die', 'Sommermonate', 'zu', 'kommen.', 'Das', 'ist', 'ganz', 'wichtig,', 'denn', 'wir', 'können', 'schon', 'annehmen,', 'dass', 'dieses', 'Virus,', 'wie', 'viele', 'andere', 'physikalisch', 'ähnlich', 'aufgebaute', 'Viren', '—', 'also', 'gehüllte', 'RNA', 'Viren', '—', 'labil', 'ist', 'gegen', 'UV-Strahlung,', 'gegen', 'Trockenheit,', 'sodass', 'wir', 'in', 'den', 'Sommermonaten', 'eine', 'ganz', 'natürliche', 'Verlangsamung', 'der', 'Verbreitung', 'bekommen.', 'Wenn', 'wir', 'es', 'jetzt', 'schaffen,', 'das', 'Geschehen,', 'sagen', 'wir', 'mal,', 'bis', 'ins', 'spätere', 'Frühjahr', 'zu', 'verschieben.', 'Dazu', 'sind', 'solche', 'Maßnahmen', 'sehr', 'gut', 'geeignet.', 'Dass', 'man', 'sagt,', 'jetzt', 'werden', 'hier', 'am', 'Ort,', 'weil', 'wir', 'konkret', 'hier', 'am', 'Ort', 'Fälle', 'haben,', 'mal', 'für', 'ein', 'paar', 'Tage', 'die', 'Grundschulen', 'geschlossen.', 'Und', 'dann', 'schauen', 'wir', 'mal', 'weiter,', 'ob', 'wir', 'das', 'noch', 'verlängern', 'wollen.', 'Solche', 'Maßnahmen', 'kann', 'ich', 'im', 'Moment', 'gut', 'nachvollziehen.', 'Aber', 'ganz', 'allgemein', 'gesprochen,', 'kann', 'man', 'die', 'in', 'einer', 'Pandemie', 'nicht', 'lange', 'durchhalten.', 'Und', 'sollte', 'man', 'auch', 'nicht,', 'weil', 'dass', 'die', 'Gesellschaft', 'überstrapaziert', 'und', 'auch', 'eine', 'falsche', 'Wahrnehmung', 'generiert', 'über', 'die', 'Gefährlichkeit', 'für', 'den', 'Einzelnen.', 'Es', 'ist', 'hier', 'einfach', 'immer', 'zu', 'unterscheiden:', 'Gefährlichkeit', 'für', 'die', 'Gesellschaft,', 'für', 'das', 'Medizinsystem,', 'auch', 'für', 'die', 'Wirtschaft', 'übrigens', 'versus', 'Gefährlichkeit', 'für', 'den', 'Einzelnen.', 'Und', 'weil', 'das', 'immer', 'verwechselt', 'oder', 'durcheinander', 'geworfen', 'wird,', 'kommt', 'es', 'dann', 'zu', 'solchen', 'Überreaktionen,', 'die', 'sich', 'in', 'Hysterie', 'und', 'vielleicht', 'auch', 'in', 'Hamsterkäufen', 'zeigen.', 'Oder', 'dass', 'man,', 'wenn', 'man', 'abends', 'mal', 'Gäste', 'hat,', 'über', 'gar', 'nichts', 'anderes', 'mehr', 'redet', 'als', 'über', 'dieses', 'Thema.', 'Also', 'der', 'Vergleich', 'mit', 'der', 'saisonalen', 'Grippe', 'hinkt', 'grundsätzlich.', 'Ich', 'weiß', 'nicht,', 'woher', 'die', 'Zahl', 'kommt.', 'Und', 'diese', 'Zahl', 'ist', 'viel', 'zu', 'niedrig.', 'Wir', 'haben', 'bei', 'der', 'saisonalen', 'Grippe', 'die', 'Übersterblichkeit,', 'das', 'ist', 'ein', 'anderer', 'Messwert,', 'ein', 'anderer', 'epidemiologischer', 'Parameter,', 'als', 'die', 'Fallsterblichkeit', 'bei', 'einer', 'Pandemie.', 'Die', 'Übersterblichkeit', 'bei', 'Influenza', 'wird', 'so', 'erhoben,', 'dass', 'man', 'sagt', '—', 'mal', 'jetzt', 'ganz', 'vereinfacht', '—', 'Grippesaison', 'ist', 'zwischen', 'Weihnachten', 'und', 'Karneval,', 'und', 'in', 'der', 'Zeit', 'zählt', 'man', 'die', 'Todesfälle', 'in', 'der', 'Bevölkerung.', 'Und', 'dann', 'zählt', 'man', 'in', 'den', 'anderen', 'Monaten', 'des', 'Jahres', 'die', 'Todesfälle.', 'Dann', 'vergleicht', 'man', 'die', 'Zahlen,', 'und', 'das,', 'was', 'da', 'an', 'mehr', 'Todesfällen', 'in', 'der', 'Grippesaison', 'auftritt,', 'das', 'schreibt', 'man', 'der', 'Influenza', 'zu.', 'Das', 'ist', 'natürlich', 'eine', 'ganz', 'grobe', 'Schätzung,', 'die', 'tatsächlich', 'erfahrungsgemäß', 'mit', 'der', 'Schwere', 'einer', 'Grippewelle', 'korreliert.', 'Aber', 'das', 'sind', 'nicht', 'jeweils', 'die', 'an', 'Grippe', 'gestorbenen', 'Personen,', 'sondern', 'da', 'hat', 'die', 'Grippe', 'häufig', 'etwas', 'angestoßen,', 'was', 'vorher', 'schon', 'als', 'Grunderkrankung', 'stark', 'da', 'war.', 'Und', 'es', 'sind', 'auch', 'nicht', 'immer', 'wirklich', 'nur', 'Grippeinfektionen,', 'da', 'sind', 'eben', 'auch', 'andere', 'Erkältungsviren', 'dabei.', 'Das', 'ist', 'also', 'eine', 'ganz', 'grobe', 'Maßzahl.', 'MAN', 'KANN', 'ES', 'NICHT', 'MIT', 'DER', 'SAISONALEN', 'GRIPPE', 'VERGLEICHEN', 'Jetzt', 'zu', 'sagen,', 'ich', 'setze', 'die', '15.000', 'oder', '20.000', 'Personen', 'Übersterblichkeit', '—', 'das', 'ist', 'übrigens', 'die', 'Zahl,', 'es', 'geht', 'nicht', 'um', '130!', 'In', 'Grippesaisons', 'fängt', 'das', 'an', 'bei', '8.000', 'oder', '10.000', 'Fällen', '—', 'und', 'es', 'kann', 'in', 'einer', 'schweren', 'Saison', 'mal', 'bis', 'zu', '30.000', 'Fällen', 'gehen.', 'Das', 'ist', 'aber', 'Übersterblichkeit.', 'Da', 'kann', 'man', 'nicht', 'sagen,', 'die', 'sind', 'alle', 'an', 'der', 'Influenza', 'gestorben.', 'Demgegenüber', 'kann', 'man', 'jetzt', 'nicht', 'sagen,', 'jetzt', 'rechnen', 'wir', 'für', 'eine', 'Pandemie', '—', 'sowohl', 'für', 'eine', 'Grippepandemie', 'wie', 'auch', 'jetzt', 'für', 'so', 'ein', 'ganz', 'neues', 'Virus.', 'Bei', 'pandemischen', 'Viren', 'reden', 'wir', 'von', 'Fallsterblichkeit,', 'und', 'das', 'können', 'wir', 'deswegen,', 'weil', 'erst', 'mal', 'der', 'Begriff', '\"Fall\"', 'klären', 'ist.', 'Also', 'wir', 'können', 'sagen,', 'es', 'gibt', 'eine', 'Fall-Definition', 'und', 'wir', 'registrieren', 'einen', 'Fall', 'und', 'wir', 'zählen', 'die', 'Fälle.', 'Und', 'dann', 'zählen', 'wir,', 'wie', 'viele', 'von', 'diesen', 'Fällen', 'am', 'Ende', 'gestorben', 'sind.', 'Und', 'wenn', 'wir', 'das', 'präzise', 'erheben,', 'dann', 'haben', 'wir', 'einen', 'präzisen', 'Messwert', 'der', 'Fallsterblichkeit.', 'Und', 'der', 'wird', 'immer', 'präziser,', 'je', 'mehr', 'man', 'testet', 'und', 'je', 'weitere', 'Bevölkerungskreise', 'man', 'testet.', 'Jetzt', 'ist', 'es', 'hier', 'bei', 'dieser', 'Erkrankung', 'so,', 'dass', 'die', 'Fallsterblichkeit', 'weiterhin', 'so', 'ein', 'Diskussionsgegenstand', 'ist', 'unter', 'Wissenschaftlern.', 'Wir', 'kommen', 'aber', 'doch', 'langsam', 'in', 'einen', 'Bereich,', 'bei', 'dem', 'wir', 'bessere', 'Zahlen', 'kriegen.', 'FALLSTERBLICHKEIT', 'NOCH', 'NICHT', 'MESSBAR', 'Die', 'Fallsterblichkeit', 'wird', 'einfach', 'zwangsweise', 'am', 'Anfang', 'einer', 'Pandemie', 'verschätzt', '—', 'und', 'zwar', 'überschätzt.', 'Das', 'liegt', 'daran,', 'dass', 'verstorbene', 'Personen', 'auffallen', 'und', 'mild', 'Erkrankte', 'nicht', 'auffallen,', 'und', 'natürlicherweise', 'ist', 'es', 'deswegen', 'gerade', 'am', 'Anfang', 'von', 'solchen', 'Epidemien', 'so,', 'dass', 'man', 'alle', 'Verstorbenen', 'zählt,', 'aber', 'längst', 'nicht', 'alle', 'Fälle.', 'Das', 'heißt,', 'der', 'Nenner', 'ist', 'zu', 'klein.', 'Im', 'Zähler', 'stehen', 'die', 'Verstorbenen,', 'im', 'Nenner', 'stehen', 'die', 'insgesamt', 'Infizierten', '—', 'und', 'deswegen', 'kommt', 'dabei', 'ein', 'zu', 'hoher', 'Wert', 'raus.', 'Und', 'wenn', 'man', 'dann', 'praktisch', 'alle', 'testen', 'würde,', 'dann', 'würde', 'man', 'sehen,', 'der', 'Zähler', 'in', 'diesem', 'Fall,', 'der', 'wird', 'immer', 'größer.', '7/7', 'In', 'Wuhan,', 'da', 'war', 'es', 'so,', 'als', 'es', 'los', 'ging,', 'dass', 'natürlich', 'erstmal', 'nur', 'die', 'Todesfälle', 'aufgefallen', 'sind,', 'da', 'hätte', 'man', 'also', 'praktisch', 'eine', 'vollkommene', 'Fallsterblichkeit.', 'Jeder,', 'der', 'infiziert', 'ist,', 'stirbt.', 'Dann', 'hat', 'man', 'gemerkt:', 'Aha,', 'da', 'sind', 'auch', 'milde', 'Fälle.', 'Dann', 'hat', 'man', 'eine', 'Situation', 'gehabt,', 'dass', 'das', 'System', 'ziemlich', 'überfordert', 'ist', 'und', 'Patienten', 'nur', 'dann', 'zur', 'Testung', 'und', 'ins', 'Krankenhaus', 'gegangen', 'sind,', 'wenn', 'sie', 'wirklich', 'schwer', 'krank', 'waren.', 'Und', 'wer', 'schon', 'schwer', 'krank', 'ist,', 'hat', 'natürlich', 'ein', 'höheres', 'Risiko,', 'dann', 'auch', 'zu', 'sterben.', 'Darum', 'sah', 'es', 'am', 'Anfang', 'so', 'aus,', 'als', 'wären', 'es', '10', 'Prozent.', 'Und', 'nach', 'einer', 'kurzen', 'Zeit', 'waren', 'es', 'dann', 'in', 'Wuhan', 'so', 'um', 'die', 'zwei,', 'drei', 'Prozent.', 'Jetzt', 'sagt', 'die', 'WHO,', 'in', 'China', 'außerhalb', 'von', 'Wuhan', 'liegt', 'die', 'Fallsterblichkeit', 'so', 'irgendwo', 'bei', '0,7', 'Prozent,', 'weil', 'sich', 'da', 'das', 'Ganze', 'schon', 'mehr', 'verteilt', 'und', 'man', 'Fälle', 'aktiver', 'suchen', 'muss,', 'um', 'sie', 'dann', 'zu', 'erkennen.', 'Und', 'längst', 'nicht', 'jeder', 'von', 'denen', 'ist', 'ein', 'schwerer', 'Fall.', 'Und', 'wenn', 'wir', 'dann', 'aufzeichnen,', 'was', 'außerhalb', 'von', 'China', 'passiert', 'Œ', 'wenn', 'wir', 'also', 'dort', 'die', 'Fälle', 'zusammenrechnen,', 'wo', 'man', 'ja', 'weiß,', 'das', 'sind', 'immer', 'Verschleppungen,', 'die', 'von', 'den', 'jeweiligen', 'Gesundheitsbehörden', 'immer', 'ernst', 'genommen', 'und', 'verfolgt', 'werden.', 'Da', 'haben', 'wir', 'ja', 'zum', 'Teil', 'eben', 'sehr', 'gute', 'Medizinsysteme', 'wie', 'Singapur,', 'auch', 'Südkorea,', 'USA', 'und', 'Europa,', 'wo', 'wir', 'dann', 'wirklich', 'zählen', 'können.', 'Dann', 'kommen', 'wir', 'auf', 'Werte', 'im', 'Bereich', 'von', '0,1', 'bis', '0,5', 'Prozent.', 'VORSICHT', 'VOR', 'VOREILIGEN', 'BERECHNUNGEN', 'Ich', 'will', 'jetzt', 'mal', 'sagen,', 'wir', 'können', 'so', 'von', 'etwas', 'unter', 'einem', 'halben', 'Prozent', 'Fallsterblichkeit', 'ausgehen.', 'Das', 'ist', 'dann', 'aber', 'wirklich', 'irgendwann', 'auch', 'ein', 'Multiplikator,', 'den', 'man', 'anwenden', 'kann.', 'Also', 'dann', 'könnte', 'man', 'fragen:', 'Okay,', 'wenn', 'wir', 'jetzt', 'diesen', 'Wert', 'haben,', 'was', 'hieße', 'das', 'denn', 'dann', 'für', 'Deutschland?', 'Was', 'hieße', 'das', 'für', 'meine', 'Stadt?', 'Und', 'dann', 'kann', 'man', 'anfangen', 'zu', 'rechnen.', 'Und', 'dann,', 'wenn', 'man', 'anfängt', 'zu', 'rechnen,', 'dann', 'errechnet', 'man', 'sich', 'erst', 'mal', 'ganz', 'erschreckende', 'Zahlen.', 'Die', 'will', 'ich', 'jetzt', 'nicht', 'hier', 'nennen,', 'denn', 'die', 'sind', 'falsch.', 'Es', 'wird', 'dann', 'wieder', 'noch', 'komplizierter,', 'vielleicht', 'müssen', 'wir', 'da', 'morgen', 'oder', 'übermorgen', 'nochmal', 'drüber', 'reden,', 'aber', 'es', 'ist', 'so,', 'dass', 'eben', 'nicht', 'jeder', 'in', 'der', 'Bevölkerung', 'infiziert', 'wird.', 'Da', 'gibt', 'es', 'noch', 'andere', 'epidemiologische', 'Termini', 'und', 'Parameter', 'dafür,', 'mit', 'denen', 'man', 'auch', 'abschätzen', 'kann,', 'wie', 'viele', 'infiziert', 'werden', 'und', 'wie', 'schnell', 'sich', 'das', 'Ganze', 'verbreitet.', 'Denn', 'auch', 'die', 'Verbreitungsgeschwindigkeit', 'ist', 'ganz', 'erheblich', 'wichtig.', 'Wenn', 'Sie', 'sich', 'vorstellen,', 'ein', 'Drittel', 'der', 'Bevölkerung', 'wird', 'infiziert,', 'dann', 'ist', 'es', 'natürlich', 'immer', 'noch', 'ein', 'riesiger', 'Unterschied,', 'ob', 'die', 'alle', 'in', 'diesem', 'Monat', 'infiziert', 'werden', 'oder', 'ob', 'sich', 'das', 'über', 'zwei', 'Jahre', 'hinschleppt.']\n4380\n"
     ]
    }
   ],
   "source": [
    "path = os.path.join('data','REFINED','ndr','100.json')\n",
    "dict1 = {}\n",
    "with open(path,'r',encoding='utf-8') as f:\n",
    "    dict1 = json.load(f)\n",
    "\n",
    "cd = []\n",
    "for key in dict1:\n",
    "    if dict1[key][0]=='Christian Drosten':\n",
    "        cd.append(dict1[key][1])\n",
    "\n",
    "l = []\n",
    "for i in range(0,len(cd)):\n",
    "    print(len(cd[i])) # Länge des Redeanteils\n",
    "    l.append(cd[i].split(' '))\n",
    "l = _flatten_list(l)\n",
    "print('stop')\n",
    "print(l)\n",
    "print(len(l))\n",
    "\n",
    "tcd = \"\\n\".join(cd)"
   ]
  },
  {
   "cell_type": "code",
   "execution_count": 28,
   "metadata": {
    "tags": []
   },
   "outputs": [
    {
     "output_type": "stream",
     "name": "stdout",
     "text": [
      "{'WRB': 21, 'PRP': 228, 'NN': 779, 'VB': 644, 'RB': 688, 'TO': 31, 'RP': 71, 'JJ': 338, 'DT': 602, 'CC': 172, 'WDT': 45, 'IN': 534, 'MD': 9, 'VBN': 60, 'CD': 35, 'NNP': 81, 'WP': 10, 'NNS': 13, 'PRP$': 15, 'UH': 2}\n"
     ]
    }
   ],
   "source": [
    "tagger = PatternTagger()\n",
    "blob = t(tcd,pos_tagger=tagger)\n",
    "# print(blob.pos_tags)\n",
    "\n",
    "wtype = {}\n",
    "# Nomen, Adjektive/Adverb, Verben https://pythonexamples.org/nltk-pos-tagging/\n",
    "# Nomen und Verben / Satz\n",
    "\n",
    "for tag in blob.pos_tags:\n",
    "    key = tag[1]\n",
    "    if key in wtype:\n",
    "        wtype[key] += 1\n",
    "    else:\n",
    "        wtype[key] = 1\n",
    "\n",
    "print(wtype)"
   ]
  }
 ]
}